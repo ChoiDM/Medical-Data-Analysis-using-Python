{
 "cells": [
  {
   "cell_type": "markdown",
   "metadata": {},
   "source": [
    "<h1 style=\"text-align:center;\"><center>Preprocessing for Radiomics (CCIDS)</center></h1>"
   ]
  },
  {
   "cell_type": "markdown",
   "metadata": {},
   "source": [
    "## Contents\n",
    "> 1. Get Image Array from Nifti File\n",
    "> 2. Save Numpy Array to Nifti File\n",
    "> 3. Resampling Voxel Size to (1, 1, 1)\n",
    "> 4. Registration\n",
    "> 5. White-stripe Normalization\n",
    "> 6. N4 Bias Correction"
   ]
  },
  {
   "cell_type": "markdown",
   "metadata": {},
   "source": [
    "---"
   ]
  },
  {
   "cell_type": "markdown",
   "metadata": {},
   "source": [
    "## ※ Requirements"
   ]
  },
  {
   "cell_type": "code",
   "execution_count": null,
   "metadata": {},
   "outputs": [],
   "source": [
    "!pip install nibabel\n",
    "!pip install SimpleITK\n",
    "!pip install scipy\n",
    "!pip install statsmodels"
   ]
  },
  {
   "cell_type": "markdown",
   "metadata": {},
   "source": [
    "## Step 1. Get Image Array from Nifti File"
   ]
  },
  {
   "cell_type": "markdown",
   "metadata": {},
   "source": [
    "__- Use python package 'nibabel' to deal with nifti file(.nii)__"
   ]
  },
  {
   "cell_type": "code",
   "execution_count": null,
   "metadata": {},
   "outputs": [],
   "source": [
    "import nibabel as nib\n",
    "\n",
    "# Get Image Array (numpy array) from Nifti File\n",
    "image_array = nib.load(file_path).get_data()"
   ]
  },
  {
   "cell_type": "markdown",
   "metadata": {},
   "source": [
    "---"
   ]
  },
  {
   "cell_type": "markdown",
   "metadata": {},
   "source": [
    "## Step 2. Save Numpy Array to Nifti File"
   ]
  },
  {
   "cell_type": "markdown",
   "metadata": {},
   "source": [
    "__1) Nibabel__"
   ]
  },
  {
   "cell_type": "code",
   "execution_count": null,
   "metadata": {},
   "outputs": [],
   "source": [
    "import numpy as np\n",
    "import os\n",
    "\n",
    "save_dir = '! directory to save nifti file !'\n",
    "save_file_name = '! rename !.nii'\n",
    "\n",
    "nifti_file = nib.Nifti1Image(image_array, np.eye(4))         # Make Nifti Object\n",
    "nib.save(nifti_file, os.path.join(save_dir, save_file_name)) # Save"
   ]
  },
  {
   "cell_type": "markdown",
   "metadata": {},
   "source": [
    "__2) Simple ITK__"
   ]
  },
  {
   "cell_type": "code",
   "execution_count": null,
   "metadata": {},
   "outputs": [],
   "source": [
    "import os\n",
    "\n",
    "save_dir = '! directory to save nifti file !'\n",
    "save_file_name = '! rename !.nii'\n",
    "\n",
    "ITK_image = sitk.GetImageFromArray(image_array)                    # Make Simple ITK Image Object\n",
    "sitk.WriteImage(ITK_image, os.path.join(save_dir, save_file_name)) # Save"
   ]
  },
  {
   "cell_type": "markdown",
   "metadata": {},
   "source": [
    "---"
   ]
  },
  {
   "cell_type": "markdown",
   "metadata": {},
   "source": [
    "## Step 3. Resampling"
   ]
  },
  {
   "cell_type": "code",
   "execution_count": null,
   "metadata": {},
   "outputs": [],
   "source": [
    "from utils.Resample import resample\n",
    "\n",
    "# Get Origin Voxel Size from Nifti File.\n",
    "origin_voxel_size = nib.load(file_path).header.get_zooms()\n",
    "\n",
    "# Set Target Voxel Size\n",
    "target_voxel_size = (1, 1, 1)\n",
    "\n",
    "# Resampling\n",
    "image_resampled = resample(image_array, origin_voxel_size, target_voxel_size)"
   ]
  },
  {
   "cell_type": "markdown",
   "metadata": {},
   "source": [
    "---"
   ]
  },
  {
   "cell_type": "markdown",
   "metadata": {},
   "source": [
    "## Step 4. Registration"
   ]
  },
  {
   "cell_type": "markdown",
   "metadata": {},
   "source": [
    "__- We have to use 'SimpleITK' in registration process.__"
   ]
  },
  {
   "cell_type": "code",
   "execution_count": null,
   "metadata": {},
   "outputs": [],
   "source": [
    "import SimpleITK as sitk\n",
    "\n",
    "# (1) - Get ITK Image from Nifti File\n",
    "image = sitk.ReadImage(file_path, sitk.sitkFloat32)\n",
    "\n",
    "# (2) - Get ITK Image from Numpy Array\n",
    "image = sitk.GetImageFromArray(image_array)"
   ]
  },
  {
   "cell_type": "code",
   "execution_count": null,
   "metadata": {},
   "outputs": [],
   "source": [
    "from utils.Registration import initial_alignment, registration\n",
    "\n",
    "# Image format is not numpy array but SimpleITK Image format\n",
    "initial_transform, moving_resampled = initial_alignment(fixed_image, moving_image)\n",
    "moving_resampled, final_transform = registration(fixed_image, moving_image, initial_transform)\n",
    "\n",
    "# 'moving_resampled' is registered image. (SimpleITK Image format)"
   ]
  },
  {
   "cell_type": "markdown",
   "metadata": {},
   "source": [
    "__- Registration of Mask Image (using 'final_transform')__"
   ]
  },
  {
   "cell_type": "code",
   "execution_count": null,
   "metadata": {},
   "outputs": [],
   "source": [
    "# We have to use 'final_transform' to deal with mask image\n",
    "\n",
    "resampler = sitk.ResampleImageFilter()\n",
    "resampler.SetReferenceImage(fixed_image)\n",
    "resampler.SetInterpolator(sitk.sitkLinear)\n",
    "resampler.SetDefaultPixelValue(0)\n",
    "resampler.SetTransform(final_transform)\n",
    "\n",
    "mask_registered = resampler.Execute(mask_image)"
   ]
  },
  {
   "cell_type": "markdown",
   "metadata": {},
   "source": [
    "---"
   ]
  },
  {
   "cell_type": "markdown",
   "metadata": {},
   "source": [
    "# Step 5. White-stripe Normalization"
   ]
  },
  {
   "cell_type": "code",
   "execution_count": null,
   "metadata": {},
   "outputs": [],
   "source": [
    "from utils.WSNormalization import ws_normalize\n",
    "\n",
    "contrast = '! contrast of sequence !' # 't1', 'flair', 'last' / 't2', 'largest' / 'md', 'first'\n",
    "\n",
    "# If there is 'brain' mask file, put mask array to 'ws_normalize' function.\n",
    "# Else, set 'mask_array' parameter to None (default is None). \n",
    "mask_array = nib.load(brain_mask_file_path).get_data()\n",
    "\n",
    "normalized_array = ws_normalize(image_array, contrast, mask_array)"
   ]
  },
  {
   "cell_type": "markdown",
   "metadata": {},
   "source": [
    "---"
   ]
  },
  {
   "cell_type": "markdown",
   "metadata": {},
   "source": [
    "# Step 6. N4 Bias Correction"
   ]
  },
  {
   "cell_type": "code",
   "execution_count": null,
   "metadata": {},
   "outputs": [],
   "source": [
    "from utils.N4Correction import n4correction\n",
    "\n",
    "n4_corrected_array = n4correction(image_array)"
   ]
  }
 ],
 "metadata": {
  "kernelspec": {
   "display_name": "Python 3",
   "language": "python",
   "name": "python3"
  },
  "language_info": {
   "codemirror_mode": {
    "name": "ipython",
    "version": 3
   },
   "file_extension": ".py",
   "mimetype": "text/x-python",
   "name": "python",
   "nbconvert_exporter": "python",
   "pygments_lexer": "ipython3",
   "version": "3.5.6"
  }
 },
 "nbformat": 4,
 "nbformat_minor": 2
}
