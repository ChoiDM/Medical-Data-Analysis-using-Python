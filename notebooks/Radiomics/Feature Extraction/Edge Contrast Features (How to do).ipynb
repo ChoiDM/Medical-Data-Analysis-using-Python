{
 "cells": [
  {
   "cell_type": "markdown",
   "metadata": {},
   "source": [
    "<h1 style=\"text-align:center;\"><center>Edge Contrast Feature Extraction (CCIDS)</center></h1>"
   ]
  },
  {
   "cell_type": "markdown",
   "metadata": {},
   "source": [
    "---"
   ]
  },
  {
   "cell_type": "markdown",
   "metadata": {},
   "source": [
    "## ※ Requirements"
   ]
  },
  {
   "cell_type": "code",
   "execution_count": null,
   "metadata": {},
   "outputs": [],
   "source": [
    "!pip install scipy\n",
    "!pip install scikit-image"
   ]
  },
  {
   "cell_type": "markdown",
   "metadata": {},
   "source": [
    "__or (to avoid SSL Error)__"
   ]
  },
  {
   "cell_type": "code",
   "execution_count": null,
   "metadata": {},
   "outputs": [],
   "source": [
    "!pip install --cert /etc/ssl/certs/somansa.pem scipy\n",
    "!pip install --cert /etc/ssl/certs/somansa.pem scikit-image"
   ]
  },
  {
   "cell_type": "markdown",
   "metadata": {},
   "source": [
    "## How to do"
   ]
  },
  {
   "cell_type": "code",
   "execution_count": null,
   "metadata": {},
   "outputs": [],
   "source": [
    "import numpy as np\n",
    "from utils.edge_contrast import get_edge_contrast, remove_top10, calc_avg_ec\n",
    "\n",
    "\n",
    "# (1) Get Edge Contrast (EC)\n",
    "edge_contrast_array = get_edge_contrast(img_array, mask_array == 1)\n",
    "edge_contrast_array = np.array(edge_contrast_array)\n",
    "edge_contrast_array = np.transpose(edge_contrast_array, (1,2,0))\n",
    "\n",
    "\n",
    "# (2) Remove Highest 10% Intensity\n",
    "contrast_list, index_top10, contrast_list_top10 = remove_top10(edge_contrast_array)\n",
    "\n",
    "\n",
    "# (3) EC Parameters\n",
    "avg_ec_100, avg_ec_75, avg_ec_50, avg_ec_25 = calc_avg_ec(contrast_list, contrast_list_top10, index_top10)"
   ]
  }
 ],
 "metadata": {
  "kernelspec": {
   "display_name": "Python 3",
   "language": "python",
   "name": "python3"
  },
  "language_info": {
   "codemirror_mode": {
    "name": "ipython",
    "version": 3
   },
   "file_extension": ".py",
   "mimetype": "text/x-python",
   "name": "python",
   "nbconvert_exporter": "python",
   "pygments_lexer": "ipython3",
   "version": "3.5.6"
  }
 },
 "nbformat": 4,
 "nbformat_minor": 2
}
